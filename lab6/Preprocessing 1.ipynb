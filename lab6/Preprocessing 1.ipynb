{
 "cells": [
  {
   "attachments": {},
   "cell_type": "markdown",
   "id": "400680a4",
   "metadata": {},
   "source": [
    "# ЛАБОРАТОРНА РОБОТА  \n",
    "\n",
    "## \"Алгоритми та моделі перетворення даних\"\n",
    "\n",
    "__Метою__ лабораторної роботи є набуття практичних навичок використання модулів бібліотеки `Scikit-learn` для вирішення наступних задач:\n",
    "\n",
    "- визначення та розподілення данних по їх типам\n",
    "- вибір та застосування алгоритмів перетворення різноманітних типів даних\n",
    "- настроювання параметрів та застосування трансформерів\n",
    "- побудова конвеєра для автоматизації процесів трансформації даних\n",
    "\n",
    "__Результатом__ виконання лабораторної роботи повинен стати датасет, в якому колонки з покажчиком перетворені під для навчання моделей"
   ]
  },
  {
   "cell_type": "code",
   "execution_count": 1,
   "id": "50098a89",
   "metadata": {},
   "outputs": [],
   "source": [
    "# імпортувати бібліотеки pandas та numpy\n",
    "import pandas as pd\n",
    "import numpy as np"
   ]
  },
  {
   "attachments": {},
   "cell_type": "markdown",
   "id": "306ace06",
   "metadata": {},
   "source": [
    "## Завдання\n",
    "\n",
    "Вхідним датасетом є csv-файл, отриманий в результаті виконання лабораторної роботи по конструюванню та очищеню покажчиків даних про продажі квартир рієлторської компанії.\n",
    "\n",
    "<h4 style='background-color:cyan; color:red; padding:15px'><ul>\n",
    "    <li>замість `...` вписуйте Ваш програмний код\n",
    "    <li>не змінюйте імена запропонованих зміних\n",
    "    </ul>\n",
    "</h4>"
   ]
  },
  {
   "cell_type": "code",
   "execution_count": 2,
   "id": "4428c2d4",
   "metadata": {},
   "outputs": [
    {
     "data": {
      "text/html": [
       "<div>\n",
       "<style scoped>\n",
       "    .dataframe tbody tr th:only-of-type {\n",
       "        vertical-align: middle;\n",
       "    }\n",
       "\n",
       "    .dataframe tbody tr th {\n",
       "        vertical-align: top;\n",
       "    }\n",
       "\n",
       "    .dataframe thead th {\n",
       "        text-align: right;\n",
       "    }\n",
       "</style>\n",
       "<table border=\"1\" class=\"dataframe\">\n",
       "  <thead>\n",
       "    <tr style=\"text-align: right;\">\n",
       "      <th></th>\n",
       "      <th>Price</th>\n",
       "      <th>rooms</th>\n",
       "      <th>price_per_m2</th>\n",
       "      <th>level</th>\n",
       "      <th>levels</th>\n",
       "      <th>year</th>\n",
       "      <th>area_total</th>\n",
       "      <th>area_living</th>\n",
       "      <th>area_kitchen</th>\n",
       "      <th>street</th>\n",
       "      <th>area_comfort</th>\n",
       "    </tr>\n",
       "  </thead>\n",
       "  <tbody>\n",
       "    <tr>\n",
       "      <th>0</th>\n",
       "      <td>140000.0</td>\n",
       "      <td>2.0</td>\n",
       "      <td>2258.0</td>\n",
       "      <td>7.0</td>\n",
       "      <td>9.0</td>\n",
       "      <td>1969.0</td>\n",
       "      <td>62.0</td>\n",
       "      <td>47.0</td>\n",
       "      <td>9.0</td>\n",
       "      <td>Омеляновича-Павленка</td>\n",
       "      <td>6.0</td>\n",
       "    </tr>\n",
       "    <tr>\n",
       "      <th>1</th>\n",
       "      <td>105000.0</td>\n",
       "      <td>4.0</td>\n",
       "      <td>847.0</td>\n",
       "      <td>25.0</td>\n",
       "      <td>26.0</td>\n",
       "      <td>2018.0</td>\n",
       "      <td>124.0</td>\n",
       "      <td>71.0</td>\n",
       "      <td>16.0</td>\n",
       "      <td>Омеляновича-Павленка</td>\n",
       "      <td>37.0</td>\n",
       "    </tr>\n",
       "    <tr>\n",
       "      <th>2</th>\n",
       "      <td>175000.0</td>\n",
       "      <td>3.0</td>\n",
       "      <td>1786.0</td>\n",
       "      <td>25.0</td>\n",
       "      <td>26.0</td>\n",
       "      <td>2010.0</td>\n",
       "      <td>98.0</td>\n",
       "      <td>37.0</td>\n",
       "      <td>14.0</td>\n",
       "      <td>Ованеса Туманяна</td>\n",
       "      <td>47.0</td>\n",
       "    </tr>\n",
       "    <tr>\n",
       "      <th>3</th>\n",
       "      <td>30970.0</td>\n",
       "      <td>1.0</td>\n",
       "      <td>1106.0</td>\n",
       "      <td>12.0</td>\n",
       "      <td>13.0</td>\n",
       "      <td>2013.0</td>\n",
       "      <td>28.0</td>\n",
       "      <td>13.0</td>\n",
       "      <td>5.0</td>\n",
       "      <td>Петропавлівська</td>\n",
       "      <td>10.0</td>\n",
       "    </tr>\n",
       "    <tr>\n",
       "      <th>4</th>\n",
       "      <td>82000.0</td>\n",
       "      <td>2.0</td>\n",
       "      <td>1281.0</td>\n",
       "      <td>18.0</td>\n",
       "      <td>26.0</td>\n",
       "      <td>2009.0</td>\n",
       "      <td>64.0</td>\n",
       "      <td>37.0</td>\n",
       "      <td>14.0</td>\n",
       "      <td>Дніпровська</td>\n",
       "      <td>13.0</td>\n",
       "    </tr>\n",
       "  </tbody>\n",
       "</table>\n",
       "</div>"
      ],
      "text/plain": [
       "      Price  rooms  price_per_m2  level  levels    year  area_total  \\\n",
       "0  140000.0    2.0        2258.0    7.0     9.0  1969.0        62.0   \n",
       "1  105000.0    4.0         847.0   25.0    26.0  2018.0       124.0   \n",
       "2  175000.0    3.0        1786.0   25.0    26.0  2010.0        98.0   \n",
       "3   30970.0    1.0        1106.0   12.0    13.0  2013.0        28.0   \n",
       "4   82000.0    2.0        1281.0   18.0    26.0  2009.0        64.0   \n",
       "\n",
       "   area_living  area_kitchen                street  area_comfort  \n",
       "0         47.0           9.0  Омеляновича-Павленка           6.0  \n",
       "1         71.0          16.0  Омеляновича-Павленка          37.0  \n",
       "2         37.0          14.0      Ованеса Туманяна          47.0  \n",
       "3         13.0           5.0       Петропавлівська          10.0  \n",
       "4         37.0          14.0           Дніпровська          13.0  "
      ]
     },
     "execution_count": 2,
     "metadata": {},
     "output_type": "execute_result"
    }
   ],
   "source": [
    "# ззчитати підготовлений датасет `apartments_clean.csv` в датафрейм та проінспектувати його стан\n",
    "data = pd.read_csv(\"apatrments_clean.csv\")\n",
    "data.head()"
   ]
  },
  {
   "attachments": {},
   "cell_type": "markdown",
   "id": "9657db97",
   "metadata": {
    "heading_collapsed": true
   },
   "source": [
    "## 1. Визначення типів покажчиків вхідного датасету"
   ]
  },
  {
   "cell_type": "code",
   "execution_count": 3,
   "id": "fb9d7753",
   "metadata": {
    "hidden": true
   },
   "outputs": [
    {
     "data": {
      "text/html": [
       "<div>\n",
       "<style scoped>\n",
       "    .dataframe tbody tr th:only-of-type {\n",
       "        vertical-align: middle;\n",
       "    }\n",
       "\n",
       "    .dataframe tbody tr th {\n",
       "        vertical-align: top;\n",
       "    }\n",
       "\n",
       "    .dataframe thead th {\n",
       "        text-align: right;\n",
       "    }\n",
       "</style>\n",
       "<table border=\"1\" class=\"dataframe\">\n",
       "  <thead>\n",
       "    <tr style=\"text-align: right;\">\n",
       "      <th></th>\n",
       "      <th>rooms</th>\n",
       "      <th>price_per_m2</th>\n",
       "      <th>level</th>\n",
       "      <th>levels</th>\n",
       "      <th>year</th>\n",
       "      <th>area_total</th>\n",
       "      <th>area_living</th>\n",
       "      <th>area_kitchen</th>\n",
       "      <th>street</th>\n",
       "      <th>area_comfort</th>\n",
       "    </tr>\n",
       "  </thead>\n",
       "  <tbody>\n",
       "    <tr>\n",
       "      <th>0</th>\n",
       "      <td>2.0</td>\n",
       "      <td>2258.0</td>\n",
       "      <td>7.0</td>\n",
       "      <td>9.0</td>\n",
       "      <td>1969.0</td>\n",
       "      <td>62.0</td>\n",
       "      <td>47.0</td>\n",
       "      <td>9.0</td>\n",
       "      <td>Омеляновича-Павленка</td>\n",
       "      <td>6.0</td>\n",
       "    </tr>\n",
       "    <tr>\n",
       "      <th>1</th>\n",
       "      <td>4.0</td>\n",
       "      <td>847.0</td>\n",
       "      <td>25.0</td>\n",
       "      <td>26.0</td>\n",
       "      <td>2018.0</td>\n",
       "      <td>124.0</td>\n",
       "      <td>71.0</td>\n",
       "      <td>16.0</td>\n",
       "      <td>Омеляновича-Павленка</td>\n",
       "      <td>37.0</td>\n",
       "    </tr>\n",
       "    <tr>\n",
       "      <th>2</th>\n",
       "      <td>3.0</td>\n",
       "      <td>1786.0</td>\n",
       "      <td>25.0</td>\n",
       "      <td>26.0</td>\n",
       "      <td>2010.0</td>\n",
       "      <td>98.0</td>\n",
       "      <td>37.0</td>\n",
       "      <td>14.0</td>\n",
       "      <td>Ованеса Туманяна</td>\n",
       "      <td>47.0</td>\n",
       "    </tr>\n",
       "    <tr>\n",
       "      <th>3</th>\n",
       "      <td>1.0</td>\n",
       "      <td>1106.0</td>\n",
       "      <td>12.0</td>\n",
       "      <td>13.0</td>\n",
       "      <td>2013.0</td>\n",
       "      <td>28.0</td>\n",
       "      <td>13.0</td>\n",
       "      <td>5.0</td>\n",
       "      <td>Петропавлівська</td>\n",
       "      <td>10.0</td>\n",
       "    </tr>\n",
       "    <tr>\n",
       "      <th>4</th>\n",
       "      <td>2.0</td>\n",
       "      <td>1281.0</td>\n",
       "      <td>18.0</td>\n",
       "      <td>26.0</td>\n",
       "      <td>2009.0</td>\n",
       "      <td>64.0</td>\n",
       "      <td>37.0</td>\n",
       "      <td>14.0</td>\n",
       "      <td>Дніпровська</td>\n",
       "      <td>13.0</td>\n",
       "    </tr>\n",
       "    <tr>\n",
       "      <th>...</th>\n",
       "      <td>...</td>\n",
       "      <td>...</td>\n",
       "      <td>...</td>\n",
       "      <td>...</td>\n",
       "      <td>...</td>\n",
       "      <td>...</td>\n",
       "      <td>...</td>\n",
       "      <td>...</td>\n",
       "      <td>...</td>\n",
       "      <td>...</td>\n",
       "    </tr>\n",
       "    <tr>\n",
       "      <th>671</th>\n",
       "      <td>2.0</td>\n",
       "      <td>2256.0</td>\n",
       "      <td>6.0</td>\n",
       "      <td>9.0</td>\n",
       "      <td>2009.0</td>\n",
       "      <td>82.0</td>\n",
       "      <td>35.0</td>\n",
       "      <td>24.0</td>\n",
       "      <td>Перемоги</td>\n",
       "      <td>23.0</td>\n",
       "    </tr>\n",
       "    <tr>\n",
       "      <th>672</th>\n",
       "      <td>3.0</td>\n",
       "      <td>757.0</td>\n",
       "      <td>8.0</td>\n",
       "      <td>9.0</td>\n",
       "      <td>1976.0</td>\n",
       "      <td>66.0</td>\n",
       "      <td>45.0</td>\n",
       "      <td>8.0</td>\n",
       "      <td>Наумова</td>\n",
       "      <td>13.0</td>\n",
       "    </tr>\n",
       "    <tr>\n",
       "      <th>673</th>\n",
       "      <td>1.0</td>\n",
       "      <td>2342.0</td>\n",
       "      <td>7.0</td>\n",
       "      <td>15.0</td>\n",
       "      <td>2009.0</td>\n",
       "      <td>38.0</td>\n",
       "      <td>20.0</td>\n",
       "      <td>7.0</td>\n",
       "      <td>Перемоги</td>\n",
       "      <td>11.0</td>\n",
       "    </tr>\n",
       "    <tr>\n",
       "      <th>674</th>\n",
       "      <td>2.0</td>\n",
       "      <td>2656.0</td>\n",
       "      <td>5.0</td>\n",
       "      <td>7.0</td>\n",
       "      <td>1948.0</td>\n",
       "      <td>64.0</td>\n",
       "      <td>37.0</td>\n",
       "      <td>9.0</td>\n",
       "      <td>Велика Васильківська</td>\n",
       "      <td>18.0</td>\n",
       "    </tr>\n",
       "    <tr>\n",
       "      <th>675</th>\n",
       "      <td>2.0</td>\n",
       "      <td>1011.0</td>\n",
       "      <td>5.0</td>\n",
       "      <td>5.0</td>\n",
       "      <td>1963.0</td>\n",
       "      <td>46.0</td>\n",
       "      <td>31.0</td>\n",
       "      <td>7.0</td>\n",
       "      <td>Вишгородська</td>\n",
       "      <td>8.0</td>\n",
       "    </tr>\n",
       "  </tbody>\n",
       "</table>\n",
       "<p>676 rows × 10 columns</p>\n",
       "</div>"
      ],
      "text/plain": [
       "     rooms  price_per_m2  level  levels    year  area_total  area_living  \\\n",
       "0      2.0        2258.0    7.0     9.0  1969.0        62.0         47.0   \n",
       "1      4.0         847.0   25.0    26.0  2018.0       124.0         71.0   \n",
       "2      3.0        1786.0   25.0    26.0  2010.0        98.0         37.0   \n",
       "3      1.0        1106.0   12.0    13.0  2013.0        28.0         13.0   \n",
       "4      2.0        1281.0   18.0    26.0  2009.0        64.0         37.0   \n",
       "..     ...           ...    ...     ...     ...         ...          ...   \n",
       "671    2.0        2256.0    6.0     9.0  2009.0        82.0         35.0   \n",
       "672    3.0         757.0    8.0     9.0  1976.0        66.0         45.0   \n",
       "673    1.0        2342.0    7.0    15.0  2009.0        38.0         20.0   \n",
       "674    2.0        2656.0    5.0     7.0  1948.0        64.0         37.0   \n",
       "675    2.0        1011.0    5.0     5.0  1963.0        46.0         31.0   \n",
       "\n",
       "     area_kitchen                street  area_comfort  \n",
       "0             9.0  Омеляновича-Павленка           6.0  \n",
       "1            16.0  Омеляновича-Павленка          37.0  \n",
       "2            14.0      Ованеса Туманяна          47.0  \n",
       "3             5.0       Петропавлівська          10.0  \n",
       "4            14.0           Дніпровська          13.0  \n",
       "..            ...                   ...           ...  \n",
       "671          24.0              Перемоги          23.0  \n",
       "672           8.0               Наумова          13.0  \n",
       "673           7.0              Перемоги          11.0  \n",
       "674           9.0  Велика Васильківська          18.0  \n",
       "675           7.0          Вишгородська           8.0  \n",
       "\n",
       "[676 rows x 10 columns]"
      ]
     },
     "execution_count": 3,
     "metadata": {},
     "output_type": "execute_result"
    }
   ],
   "source": [
    "# відокремити від робочого датасету колонку з цільовим показчиком (`Price`) \n",
    "# та вилучити її з обробки\n",
    "target = data[\"Price\"]\n",
    "data.drop(\"Price\", axis=1, inplace=True)\n",
    "data"
   ]
  },
  {
   "cell_type": "code",
   "execution_count": 4,
   "id": "dbb005f1",
   "metadata": {
    "hidden": true
   },
   "outputs": [
    {
     "data": {
      "text/plain": [
       "((676,), (676, 10))"
      ]
     },
     "execution_count": 4,
     "metadata": {},
     "output_type": "execute_result"
    }
   ],
   "source": [
    "# для самоперевірки: кількисть рядків в датасетах повинна співпадати!\n",
    "target.shape, data.shape"
   ]
  },
  {
   "cell_type": "code",
   "execution_count": 16,
   "id": "ae23f321",
   "metadata": {
    "hidden": true
   },
   "outputs": [],
   "source": [
    "# імпортувати з sklearn модуль, що відповідає за селективний відбір покажчиків\n",
    "from sklearn.compose import make_column_selector"
   ]
  },
  {
   "cell_type": "code",
   "execution_count": 19,
   "id": "652f0ba2",
   "metadata": {
    "hidden": true
   },
   "outputs": [
    {
     "data": {
      "text/plain": [
       "<sklearn.compose._column_transformer.make_column_selector at 0x1b78e14a2e0>"
      ]
     },
     "execution_count": 19,
     "metadata": {},
     "output_type": "execute_result"
    }
   ],
   "source": [
    "# побудувати  селектори для вібіру числових та категоріальних колонок\n",
    "numeric_selector = make_column_selector(dtype_include=np.number)\n",
    "category_selector = make_column_selector(dtype_include=object)"
   ]
  },
  {
   "cell_type": "code",
   "execution_count": 20,
   "id": "a673dde6",
   "metadata": {
    "hidden": true
   },
   "outputs": [
    {
     "name": "stdout",
     "output_type": "stream",
     "text": [
      "список числових покажчиків = ['rooms', 'price_per_m2', 'level', 'levels', 'year', 'area_total', 'area_living', 'area_kitchen', 'area_comfort']\n",
      "список категоріальних покажчиків = ['street']\n"
     ]
    }
   ],
   "source": [
    "# застосувати побудовані селектори для створення списків числових та категоріальних показчиків\n",
    "numeric_data_columns = numeric_selector(data)\n",
    "category_data_columns = category_selector(data)\n",
    "\n",
    "print(f'список числових покажчиків = {numeric_data_columns}')\n",
    "print(f'список категоріальних покажчиків = {category_data_columns}')"
   ]
  },
  {
   "cell_type": "code",
   "execution_count": 22,
   "id": "6ecaeec9",
   "metadata": {
    "hidden": true
   },
   "outputs": [
    {
     "data": {
      "text/plain": [
       "((676, 9), (676, 1))"
      ]
     },
     "execution_count": 22,
     "metadata": {},
     "output_type": "execute_result"
    }
   ],
   "source": [
    "# створити 2 окремі датасети: числовий та категоріальний та вивести їх основні властивості\n",
    "data_numeric = data.loc[:, numeric_selector(data)]\n",
    "data_category = data.loc[:, category_selector(data)]\n",
    "\n",
    "data_numeric.shape, data_category.shape"
   ]
  },
  {
   "attachments": {},
   "cell_type": "markdown",
   "id": "6702f1f4",
   "metadata": {},
   "source": [
    "## 2. Маштабування числових та категоріальних колонок"
   ]
  },
  {
   "attachments": {},
   "cell_type": "markdown",
   "id": "73613dc5",
   "metadata": {
    "heading_collapsed": true
   },
   "source": [
    "### 2.1. Маштабування числових показчиків"
   ]
  },
  {
   "cell_type": "code",
   "execution_count": 31,
   "id": "17349145",
   "metadata": {
    "hidden": true
   },
   "outputs": [],
   "source": [
    "# з модуля `preprocessing` імпортувати нормалізатор 'MinMaxScaler' та стандартизатор 'StandardScaler'\n",
    "from sklearn.preprocessing import MinMaxScaler, StandardScaler"
   ]
  },
  {
   "cell_type": "code",
   "execution_count": 38,
   "id": "6fc56713",
   "metadata": {
    "hidden": true
   },
   "outputs": [],
   "source": [
    "# створити відповідні маштабувачі\n",
    "standart_scaler = StandardScaler()\n",
    "min_max_scaler = MinMaxScaler()"
   ]
  },
  {
   "cell_type": "code",
   "execution_count": 42,
   "id": "0f4a23e6",
   "metadata": {
    "hidden": true
   },
   "outputs": [],
   "source": [
    "# побудувати змаштабовані датасети за двома стратегіями: стандартизація та нормалізація\n",
    "data_normalized = min_max_scaler.fit_transform(data_numeric)\n",
    "data_standardized = standart_scaler.fit_transform(data_numeric)\n"
   ]
  },
  {
   "cell_type": "code",
   "execution_count": 46,
   "id": "343c666c",
   "metadata": {
    "hidden": true
   },
   "outputs": [
    {
     "data": {
      "image/png": "[encoded data removed]",
      "text/plain": [
       "<Figure size 1200x800 with 4 Axes>"
      ]
     },
     "metadata": {},
     "output_type": "display_data"
    }
   ],
   "source": [
    "# побудувати графіки розподілення значень показчиків при\n",
    "# стандартном та нормалізованом маштабуванні\n",
    "df_normalized = pd.DataFrame(data_normalized, columns=data_numeric.columns)\n",
    "df_standardized = pd.DataFrame(data_standardized, columns=data_numeric.columns)\n",
    "\n",
    "# створити графіки\n",
    "fig, axes = plt.subplots(nrows=2, ncols=2, figsize=(12, 8))\n",
    "axes[0, 0].set_title('Before Scaling')\n",
    "sns.kdeplot(data_numeric, ax=axes[0, 0])\n",
    "sns.kdeplot(data_numeric, ax=axes[0, 0])\n",
    "sns.kdeplot(data_numeric, ax=axes[0, 0])\n",
    "\n",
    "axes[0, 1].set_title('After Min-Max Scaling')\n",
    "sns.kdeplot(df_normalized, ax=axes[0, 1])\n",
    "sns.kdeplot(df_normalized, ax=axes[0, 1])\n",
    "sns.kdeplot(df_normalized, ax=axes[0, 1])\n",
    "\n",
    "axes[1, 0].set_title('After Standard Scaling')\n",
    "sns.kdeplot(df_standardized, ax=axes[1, 0])\n",
    "sns.kdeplot(df_standardized, ax=axes[1, 0])\n",
    "sns.kdeplot(df_standardized, ax=axes[1, 0])\n",
    "\n",
    "plt.show()"
   ]
  },
  {
   "attachments": {},
   "cell_type": "markdown",
   "id": "3813999f",
   "metadata": {
    "hidden": true
   },
   "source": [
    "#####  __проаналізувати графіки та визначись який маштабувач краще підходить до числовї підмножини робочого датасету__"
   ]
  },
  {
   "attachments": {},
   "cell_type": "markdown",
   "id": "b76b10d8",
   "metadata": {
    "heading_collapsed": true
   },
   "source": [
    "### 2.1. Маштабування категоріальних показчиків"
   ]
  },
  {
   "cell_type": "code",
   "execution_count": null,
   "id": "8f404fef",
   "metadata": {
    "hidden": true
   },
   "outputs": [],
   "source": [
    "# з модуля `preporcessing` імпортувати кодувальники 'OrdinalEncoder' та 'OneHotEncoder'\n",
    "..."
   ]
  },
  {
   "cell_type": "code",
   "execution_count": null,
   "id": "9118d4ce",
   "metadata": {
    "hidden": true
   },
   "outputs": [],
   "source": [
    "# проаналізувати категоріальні показчики та визначитись до якого показчика\n",
    "# який енкодер доцільно застосовувати\n",
    "..."
   ]
  },
  {
   "cell_type": "code",
   "execution_count": null,
   "id": "b70c4794",
   "metadata": {
    "hidden": true
   },
   "outputs": [],
   "source": [
    "# створити енкодери та закодувати ними відповідні категоріальні колонки\n",
    "ordinal_encoder = ...\n",
    "one_hot_encoder = ..."
   ]
  },
  {
   "attachments": {},
   "cell_type": "markdown",
   "id": "bb506c75",
   "metadata": {
    "heading_collapsed": true
   },
   "source": [
    "## 3. Побудова трансформера для підготовки даних"
   ]
  },
  {
   "cell_type": "code",
   "execution_count": null,
   "id": "7c6c1930",
   "metadata": {
    "hidden": true
   },
   "outputs": [],
   "source": [
    "# з модуля `compose` імпортувати трансформер колонок `ColumnTransformer`\n",
    "..."
   ]
  },
  {
   "cell_type": "code",
   "execution_count": null,
   "id": "2605b0c2",
   "metadata": {
    "hidden": true
   },
   "outputs": [],
   "source": [
    "# побудувати трансформер для предобробки числових та категоріальних показчиків\n",
    "# робочого датасету\n",
    "transformer = ...\n",
    "print(transformer)"
   ]
  },
  {
   "cell_type": "code",
   "execution_count": null,
   "id": "2375ade7",
   "metadata": {
    "code_folding": [],
    "hidden": true
   },
   "outputs": [],
   "source": [
    "# отримати вихідний масив застосував трансфомер до вхідного датасуту\n",
    "data_transformed = ...\n",
    "data_transformed.shape"
   ]
  },
  {
   "cell_type": "code",
   "execution_count": null,
   "id": "4ea575ba",
   "metadata": {
    "hidden": true
   },
   "outputs": [],
   "source": [
    "# побудувати вихідний датафрейм з вихідного масиву додавши в першу колонку\n",
    "# ціловий показчик `target`\n",
    "apartment_transformed = ..."
   ]
  },
  {
   "cell_type": "code",
   "execution_count": null,
   "id": "392d36bf",
   "metadata": {
    "hidden": true
   },
   "outputs": [],
   "source": [
    "# Проінспектувати вихідний датасет `apartment_transformed`\n",
    "..."
   ]
  },
  {
   "cell_type": "code",
   "execution_count": null,
   "id": "3fca0d30",
   "metadata": {
    "hidden": true
   },
   "outputs": [],
   "source": [
    "# зберегти підготовлений датасет в csv-файлі `apartment_transformed.csv`\n",
    "..."
   ]
  }
 ],
 "metadata": {
  "kernelspec": {
   "display_name": "Python 3 (ipykernel)",
   "language": "python",
   "name": "python3"
  },
  "language_info": {
   "codemirror_mode": {
    "name": "ipython",
    "version": 3
   },
   "file_extension": ".py",
   "mimetype": "text/x-python",
   "name": "python",
   "nbconvert_exporter": "python",
   "pygments_lexer": "ipython3",
   "version": "3.9.0"
  },
  "varInspector": {
   "cols": {
    "lenName": 16,
    "lenType": 16,
    "lenVar": 40
   },
   "kernels_config": {
    "python": {
     "delete_cmd_postfix": "",
     "delete_cmd_prefix": "del ",
     "library": "var_list.py",
     "varRefreshCmd": "print(var_dic_list())"
    },
    "r": {
     "delete_cmd_postfix": ") ",
     "delete_cmd_prefix": "rm(",
     "library": "var_list.r",
     "varRefreshCmd": "cat(var_dic_list()) "
    }
   },
   "types_to_exclude": [
    "module",
    "function",
    "builtin_function_or_method",
    "instance",
    "_Feature"
   ],
   "window_display": false
  }
 },
 "nbformat": 4,
 "nbformat_minor": 5
}
